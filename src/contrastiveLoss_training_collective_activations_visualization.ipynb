{
 "cells": [
  {
   "cell_type": "code",
   "execution_count": 36,
   "id": "bace4eb8-1fce-40d1-a070-cd7eae65f1ca",
   "metadata": {},
   "outputs": [],
   "source": [
    "import torch\n",
    "from torch import nn, optim\n",
    "from torch.utils.data import DataLoader\n",
    "from torchvision import transforms\n",
    "\n",
    "import pandas as pd\n",
    "import numpy as np \n",
    "import matplotlib.pyplot as plt\n",
    "from tqdm.notebook import tqdm  \n",
    "from sklearn.decomposition import PCA\n",
    "import umap\n",
    "import math\n",
    "import io\n",
    "import umap.plot\n",
    "import plotly.graph_objs as go \n",
    "import plotly.io as pio \n",
    "pio.renderers.default ='iframe'\n",
    "\n",
    "from collections import defaultdict\n",
    "\n",
    "import math,os,sys\n",
    "import warnings \n",
    "warnings.filterwarnings('ignore')"
   ]
  },
  {
   "cell_type": "code",
   "execution_count": 2,
   "id": "b8a91ae4",
   "metadata": {},
   "outputs": [
    {
     "name": "stderr",
     "output_type": "stream",
     "text": [
      "100%|████████████████████████████████████████████████████████████████████████| 800/800 [00:00<00:00, 4061.26it/s]\n",
      "100%|████████████████████████████████████████████████████████████████████████| 200/200 [00:00<00:00, 4758.28it/s]\n"
     ]
    }
   ],
   "source": [
    "from mnist_dataset import MNISTDataset \n",
    "#load dataset \n",
    "data = pd.read_csv('../data/train.csv')\n",
    "data = data[:1000]\n",
    "#temporarly trying to overfit with less data\n",
    "val_count =200\n",
    "\n",
    "#common transformation\n",
    "default_transform = transforms.Compose([\n",
    "    transforms.ToPILImage(),\n",
    "    transforms.ToTensor(),\n",
    "    transforms.Normalize(0.5,0.5)\n",
    "])\n",
    "\n",
    "#split the train to val and train\n",
    "dataset = MNISTDataset(data.iloc[:-val_count], default_transform)\n",
    "val_dataset = MNISTDataset(data.iloc[-val_count:], default_transform)\n"
   ]
  },
  {
   "cell_type": "code",
   "execution_count": 4,
   "id": "cb8a3df1",
   "metadata": {},
   "outputs": [],
   "source": [
    "#setup Dataloaders with pytorch dataloaders\n",
    "trainloader = DataLoader(\n",
    "    dataset,\n",
    "    batch_size = 128*2,\n",
    "    shuffle =True,\n",
    "    #pin_memory = True, # for faster data transfer speed btn CPU and GPU, but will consume more system memory\n",
    "    num_workers = 2,\n",
    "    #prefetch_factor = 100,#to specify how many batches should be prefetched(loaded into memory[increased memory usage tho]) asynchronously in advance.\n",
    "\n",
    ") "
   ]
  },
  {
   "cell_type": "markdown",
   "id": "de91ca38-4641-43fc-a054-9af4e0e45918",
   "metadata": {},
   "source": [
    "# visualizing Datapoints"
   ]
  },
  {
   "cell_type": "code",
   "execution_count": 5,
   "id": "431a76d4-b95e-49ca-a943-7d9dd320ed23",
   "metadata": {},
   "outputs": [
    {
     "data": {
      "image/png": "[encoded data removed]",
      "text/plain": [
       "<Figure size 900x300 with 4 Axes>"
      ]
     },
     "metadata": {},
     "output_type": "display_data"
    },
    {
     "data": {
      "image/png": "[encoded data removed]",
      "text/plain": [
       "<Figure size 900x300 with 4 Axes>"
      ]
     },
     "metadata": {},
     "output_type": "display_data"
    }
   ],
   "source": [
    "def show_images(images, title =''):\n",
    "    num_images = len(images)\n",
    "    fig,axes = plt.subplots(1, num_images,figsize=(9,3))\n",
    "    for i in range(num_images):\n",
    "        img = np.squeeze(images[i])\n",
    "        axes[i].imshow(img,cmap='gray')\n",
    "        axes[i].axis('off')\n",
    "    fig.suptitle(title)\n",
    "    plt.show()\n",
    "    \n",
    "for batch_idx, (anchor_images, contrastive_images, distances, labels) in enumerate(trainloader):\n",
    "    #converting tensors to numpy, numpy is easy to muniplate and display with matplotlib\n",
    "    anchor_images = anchor_images.numpy()\n",
    "    contrastive_images = contrastive_images.numpy()\n",
    "    labels = labels.numpy()\n",
    "\n",
    "    #display some imgages from batch\n",
    "    show_images(anchor_images[:4], title = 'Anchor Images')\n",
    "    show_images(contrastive_images[:4], title = '+/- Example Images')\n",
    "    #break after displaying from one batch for demostration \n",
    "    break"
   ]
  },
  {
   "cell_type": "markdown",
   "id": "e68115e5-2935-48f5-a968-12f4fe679b70",
   "metadata": {},
   "source": [
    "# lets build Neural Network\n",
    "-  Define a neural network architecture with two convolution layers and two fully connected layers\n",
    "- Input to the network is an MNIST image and Output is a 64 dimensional representation. \n"
   ]
  },
  {
   "cell_type": "code",
   "execution_count": 6,
   "id": "7f725e1e-0423-47f8-b173-8ab9d05296eb",
   "metadata": {},
   "outputs": [],
   "source": [
    "from Network import Network,Network_t ,ContrastiveLoss_with_margin\n",
    "from utils import init_weights, init_weights_for_gelu"
   ]
  },
  {
   "cell_type": "code",
   "execution_count": 7,
   "id": "4a4f49e1-4752-453a-8522-4ee463060cd2",
   "metadata": {},
   "outputs": [
    {
     "data": {
      "text/plain": [
       "'mps'"
      ]
     },
     "execution_count": 7,
     "metadata": {},
     "output_type": "execute_result"
    }
   ],
   "source": [
    "net = Network()\n",
    "\n",
    "device= \"cpu\"\n",
    "if torch.cuda.is_available():\n",
    "    device = \"cuda\"\n",
    "elif hasattr(torch.backends, \"mps\") and torch.backends.mps.is_available():\n",
    "    device= \"mps\"\n",
    "\n",
    "#device= \"cpu\" #overide device for overfitting a very small data batch\n",
    "net = net.to(device)\n",
    "\n",
    "device"
   ]
  },
  {
   "cell_type": "markdown",
   "id": "4213cc3d-bbd1-4d3c-8189-9c0581e0334d",
   "metadata": {},
   "source": [
    "### weight initialization "
   ]
  },
  {
   "cell_type": "code",
   "execution_count": 8,
   "id": "01d9b640-9d71-4e38-9d1d-8d090eb81628",
   "metadata": {},
   "outputs": [],
   "source": [
    "epoch_count=10\n",
    "max_lr = 6e-4\n",
    "min_lr = max_lr *10 \n",
    "max_steps = epoch_count\n",
    "warm_up_steps = max_steps * 0.2\n",
    "\n",
    "def get_lr(iter):\n",
    "    #linear warm up for warm up steps\n",
    "    if iter < warm_up_steps:\n",
    "        return max_lr * (iter+1) / warm_up_steps\n",
    "    #if iter > lr_decay_iters, return min learning rate\n",
    "    if iter > max_steps:\n",
    "        return min_lr\n",
    "    #in between ,use cosine decay down to min learning rate\n",
    "    decay_ratio = (iter - warm_up_steps) / (max_steps - warm_up_steps)\n",
    "    assert 0 <= decay_ratio <= 1\n",
    "    coeff = 0.5 * (1.0 + math.cos(math.pi * decay_ratio)) #coffe starts at 1 and goes to 0\n",
    "    return min_lr + coeff * (max_lr - min_lr)"
   ]
  },
  {
   "cell_type": "code",
   "execution_count": 9,
   "id": "f192860c-848f-422a-b0c6-fdff6d3e8ce4",
   "metadata": {},
   "outputs": [],
   "source": [
    "from torch.optim.lr_scheduler import ReduceLROnPlateau,CosineAnnealingLR"
   ]
  },
  {
   "cell_type": "code",
   "execution_count": 10,
   "id": "79f8b27f-d130-4697-a2cf-a1efe0de0130",
   "metadata": {},
   "outputs": [],
   "source": [
    "epoch_count=10\n",
    "optimizer = torch.optim.AdamW(net.parameters(), lr = 0.00001,weight_decay=1e-5)\n",
    "#optimizer = torch.optim.AdamW(net.parameters())\n",
    "loss_function = ContrastiveLoss_with_margin()\n",
    "#scheduler = optim.lr_scheduler.StepLR(optimizer, step_size=4, gamma=0.3)\n",
    "scheduler = CosineAnnealingLR(optimizer, T_max=epoch_count, eta_min=1e-6)\n",
    "#scheduler reduces plateau loss\n",
    "#scheduler = ReduceLROnPlateau(optimizer, mode='min', factor=0.5, patience=3, verbose=True)\n"
   ]
  },
  {
   "cell_type": "code",
   "execution_count": 11,
   "id": "b1074f81-4ec1-4d6f-90db-51f9425197f7",
   "metadata": {},
   "outputs": [],
   "source": [
    "import os\n",
    "checkpoint_dir ='checkpoints/'\n",
    "\n",
    "if not os.path.exists(checkpoint_dir):\n",
    "    os.makedirs(checkpoint_dir)"
   ]
  },
  {
   "cell_type": "code",
   "execution_count": 12,
   "id": "15d6d592-6e15-4163-bb9e-a7a4a56b9752",
   "metadata": {},
   "outputs": [],
   "source": [
    "activations_list = []\n",
    "gradients = []\n",
    "#activation_metrics = defaultdict(lambda: {'tensors': []})\n",
    "#custom_gain = math.sqrt(2) # Example: Adjust this value as needed\n",
    "#custom_gain = nn.init.calculate_gain('relu')  # Calculate gain for ReLU\n",
    "\n",
    "\n",
    "def Train_model(epoch_count=epoch_count):\n",
    "    net = Network()\n",
    "    net.apply(init_weights_for_gelu)\n",
    "    #init_weights(net, gain=custom_gain)\n",
    "    net = net.to(device)\n",
    "    lrs = []\n",
    "    losses = []\n",
    "    activations = []\n",
    "    activations_dict = {}  # Reset for each epoch\n",
    "    #--------\n",
    "    # Hook function to capture activations\n",
    "    def get_activation(name):\n",
    "        def hook(model, input, output):\n",
    "            if name not in activations_dict:\n",
    "                activations_dict[name] = []\n",
    "            activations_dict[name].append(output.detach().cpu())\n",
    "        return hook   \n",
    "        \n",
    "    # Register hooks for GELU layers\n",
    "    for name, layer in net.named_modules():\n",
    "        if isinstance(layer, nn.GELU):\n",
    "            layer.register_forward_hook(get_activation(name))\n",
    "   \n",
    "\n",
    "    def capture_gradient(name):\n",
    "        def hook(module, grad_input, grad_output):\n",
    "            gradients.append((name, grad_output[0].detach()))\n",
    "        return hook\n",
    "        \n",
    "\n",
    "    #------------\n",
    "    for epoch in range(epoch_count):\n",
    "        epoch_loss = 0\n",
    "        batches = 0\n",
    "        activations_dict = {}  # Reset for each epoch\n",
    "        \n",
    "        print('epoch-',epoch) \n",
    "        for param_group in optimizer.param_groups:\n",
    "            lrs.append(param_group['lr'])\n",
    "        \n",
    "        print('learning rate',lrs[-1])\n",
    "\n",
    "        for anchor, contrastive, distance, label in tqdm(trainloader):\n",
    "            \n",
    "            # Ensure data is in the correct shape\n",
    "            assert anchor.shape[1] == 1, f\"Expected anchor channels to be 1, but got {anchor.shape[1]}\"\n",
    "            assert contrastive.shape[1] == 1, f\"Expected contrastive channels to be 1, but got {contrastive.shape[1]}\"\n",
    "\n",
    "            batches +=1\n",
    "            optimizer.zero_grad()\n",
    "            anchor_out = anchor.to(device, dtype=torch.float32)\n",
    "            contrastive_out = contrastive.to(device, dtype=torch.float32)\n",
    "            distance = distance.to(torch.float32).to(device)\n",
    "\n",
    "            anchor_out = net(anchor_out)\n",
    "            contrastive_out = net(contrastive_out)\n",
    "            \n",
    "            loss = loss_function(anchor_out, contrastive_out, distance)\n",
    "            epoch_loss += loss\n",
    "            loss.backward()\n",
    "            norm = torch.nn.utils.clip_grad_norm_(net.parameters(), 1.0)\n",
    "            optimizer.step()\n",
    "        \n",
    "        avg_loss = epoch_loss / batches\n",
    "        \n",
    "        activations_list.append(activations_dict.copy())     \n",
    "        losses.append(epoch_loss.cpu().detach().numpy()/ batches)\n",
    "        #scheduler.step()\n",
    "        #scheduler.step(avg_loss) # for ReduceONplatea scheduler\n",
    "        print('epoch_loss', losses[-1])\n",
    "\n",
    "        #save checkpoint\n",
    "        checkpoint_path = os.path.join(checkpoint_dir, f'model_epoch{epoch}.pt')\n",
    "        torch.save(net.state_dict(), checkpoint_path)\n",
    "\n",
    "        \n",
    "    # print(f\"lrs = {lrs} #######\")\n",
    "    # print(f\"losses = {losses} #####\")\n",
    "    print(activations_list)\n",
    "    plt.plot(lrs, losses)\n",
    "    plt.xlabel('Learning Rate')\n",
    "    plt.ylabel('Loss')\n",
    "    plt.title('Learning Rate vs. Loss')\n",
    "    plt.show()\n",
    "\n",
    "    return{\n",
    "        \"net\": net,\n",
    "        \"losses\":losses\n",
    "    }\n",
    "        "
   ]
  },
  {
   "cell_type": "code",
   "execution_count": null,
   "id": "3dd780d3-3e40-4228-8b40-201a7f24b179",
   "metadata": {},
   "outputs": [],
   "source": [
    "activations_list = []\n",
    "gradients = []\n",
    "\n",
    "def Train_model(epoch_count=epoch_count):\n",
    "    net = Network()\n",
    "    net.apply(init_weights_for_gelu)\n",
    "    net = net.to(device)\n",
    "    lrs = []\n",
    "    losses = []\n",
    "    activations_dict = {}  # Initialize outside the epoch loop\n",
    "    \n",
    "    # Hook function to capture activations\n",
    "    def get_activation(name):\n",
    "        def hook(model, input, output):\n",
    "            if name not in activations_dict:\n",
    "                activations_dict[name] = []\n",
    "            activations_dict[name].append(output.detach().cpu())\n",
    "        return hook   \n",
    "        \n",
    "    # Register hooks for GELU layers\n",
    "    for name, layer in net.named_modules():\n",
    "        if isinstance(layer, nn.GELU):\n",
    "            layer.register_forward_hook(get_activation(name))\n",
    "   \n",
    "\n",
    "    def capture_gradient(name):\n",
    "        def hook(module, grad_input, grad_output):\n",
    "            gradients.append((name, grad_output[0].detach()))\n",
    "        return hook\n",
    "        \n",
    "\n",
    "    for epoch in range(epoch_count):\n",
    "        epoch_loss = 0\n",
    "        batches = 0\n",
    "        \n",
    "        print('epoch-',epoch) \n",
    "        for param_group in optimizer.param_groups:\n",
    "            lrs.append(param_group['lr'])\n",
    "        \n",
    "        print('learning rate',lrs[-1])\n",
    "\n",
    "        for anchor, contrastive, distance, label in tqdm(trainloader):\n",
    "            \n",
    "            # Ensure data is in the correct shape\n",
    "            assert anchor.shape[1] == 1, f\"Expected anchor channels to be 1, but got {anchor.shape[1]}\"\n",
    "            assert contrastive.shape[1] == 1, f\"Expected contrastive channels to be 1, but got {contrastive.shape[1]}\"\n",
    "\n",
    "            batches +=1\n",
    "            optimizer.zero_grad()\n",
    "            anchor_out = anchor.to(device, dtype=torch.float32)\n",
    "            contrastive_out = contrastive.to(device, dtype=torch.float32)\n",
    "            distance = distance.to(torch.float32).to(device)\n",
    "\n",
    "            anchor_out = net(anchor_out)\n",
    "            contrastive_out = net(contrastive_out)\n",
    "            \n",
    "            loss = loss_function(anchor_out, contrastive_out, distance)\n",
    "            epoch_loss += loss\n",
    "            loss.backward()\n",
    "            norm = torch.nn.utils.clip_grad_norm_(net.parameters(), 1.0)\n",
    "            optimizer.step()\n",
    "        \n",
    "        avg_loss = epoch_loss / batches\n",
    "        \n",
    "        activations_list.append(activations_dict.copy())  # Copy to avoid reference issues     \n",
    "        losses.append(epoch_loss.cpu().detach().numpy() / batches)\n",
    "        \n",
    "        print('epoch_loss', losses[-1])\n",
    "\n",
    "        # Save checkpoint\n",
    "        checkpoint_path = os.path.join(checkpoint_dir, f'model_epoch{epoch}.pt')\n",
    "        torch.save(net.state_dict(), checkpoint_path)\n",
    "\n",
    "    print(activations_list)\n",
    "    plt.plot(lrs, losses)\n",
    "    plt.xlabel('Learning Rate')\n",
    "    plt.ylabel('Loss')\n",
    "    plt.title('Learning Rate vs. Loss')\n",
    "    plt.show()\n",
    "\n",
    "    return {\n",
    "        \"net\": net,\n",
    "        \"losses\": losses\n",
    "    }\n"
   ]
  },
  {
   "cell_type": "code",
   "execution_count": 14,
   "id": "12fe83b5-ca2b-49be-87c3-b77ac19502a9",
   "metadata": {},
   "outputs": [],
   "source": [
    "import torch\n",
    "import torch.nn as nn\n",
    "import matplotlib.pyplot as plt\n",
    "from collections import defaultdict\n",
    "\n",
    "activations_list = []\n",
    "gradients = []\n",
    "\n",
    "def Train_model(epoch_count=epoch_count):\n",
    "    net = Network()\n",
    "    net.apply(init_weights_for_gelu)\n",
    "    net = net.to(device)\n",
    "    lrs = []\n",
    "    losses = []\n",
    "    activations_dict = defaultdict(lambda: {'mean': [], 'var': [], 'neg_ratio': []})\n",
    "    \n",
    "    # Modified hook function to capture activation statistics\n",
    "    def get_activation_stats(name):\n",
    "        def hook(model, input, output):\n",
    "            # Compute statistics\n",
    "            mean = output.detach().mean().item()\n",
    "            var = output.detach().var().item()\n",
    "            neg_ratio = (output.detach() < 0).float().mean().item()\n",
    "            \n",
    "            # Store statistics\n",
    "            activations_dict[name]['mean'].append(mean)\n",
    "            activations_dict[name]['var'].append(var)\n",
    "            activations_dict[name]['neg_ratio'].append(neg_ratio)\n",
    "        return hook   \n",
    "    \n",
    "    # Register hooks for GELU layers (or whatever activation you're using)\n",
    "    for name, layer in net.named_modules():\n",
    "        if isinstance(layer, nn.GELU):  # Change this to nn.LeakyReLU if you're using Leaky ReLU\n",
    "            layer.register_forward_hook(get_activation_stats(name))\n",
    "   \n",
    "    def capture_gradient(name):\n",
    "        def hook(module, grad_input, grad_output):\n",
    "            gradients.append((name, grad_output[0].detach()))\n",
    "        return hook\n",
    "        \n",
    "    for epoch in range(epoch_count):\n",
    "        epoch_loss = 0\n",
    "        batches = 0\n",
    "        \n",
    "        print('epoch-', epoch) \n",
    "        for param_group in optimizer.param_groups:\n",
    "            lrs.append(param_group['lr'])\n",
    "        \n",
    "        print('learning rate', lrs[-1])\n",
    "        for anchor, contrastive, distance, label in tqdm(trainloader):\n",
    "            \n",
    "            # Ensure data is in the correct shape\n",
    "            assert anchor.shape[1] == 1, f\"Expected anchor channels to be 1, but got {anchor.shape[1]}\"\n",
    "            assert contrastive.shape[1] == 1, f\"Expected contrastive channels to be 1, but got {contrastive.shape[1]}\"\n",
    "            batches += 1\n",
    "            optimizer.zero_grad()\n",
    "            anchor_out = anchor.to(device, dtype=torch.float32)\n",
    "            contrastive_out = contrastive.to(device, dtype=torch.float32)\n",
    "            distance = distance.to(torch.float32).to(device)\n",
    "            anchor_out = net(anchor_out)\n",
    "            contrastive_out = net(contrastive_out)\n",
    "            \n",
    "            loss = loss_function(anchor_out, contrastive_out, distance)\n",
    "            epoch_loss += loss\n",
    "            loss.backward()\n",
    "            norm = torch.nn.utils.clip_grad_norm_(net.parameters(), 1.0)\n",
    "            optimizer.step()\n",
    "        \n",
    "        avg_loss = epoch_loss / batches\n",
    "        \n",
    "        activations_list.append({k: {stat: v[stat][-batches:] for stat in v} for k, v in activations_dict.items()})\n",
    "        losses.append(epoch_loss.cpu().detach().numpy() / batches)\n",
    "        \n",
    "        print('epoch_loss', losses[-1])\n",
    "        # Save checkpoint\n",
    "        checkpoint_path = os.path.join(checkpoint_dir, f'model_epoch{epoch}.pt')\n",
    "        torch.save(net.state_dict(), checkpoint_path)\n",
    "\n",
    "    # Plot activation statistics\n",
    "    plot_activation_stats(activations_list)\n",
    "\n",
    "    # Plot learning rate vs loss\n",
    "    plt.figure()\n",
    "    plt.plot(lrs, losses)\n",
    "    plt.xlabel('Learning Rate')\n",
    "    plt.ylabel('Loss')\n",
    "    plt.title('Learning Rate vs. Loss')\n",
    "    plt.show()\n",
    "\n",
    "    return {\n",
    "        \"net\": net,\n",
    "        \"losses\": losses,\n",
    "        \"activations\": activations_list\n",
    "    }\n",
    "\n",
    "def plot_activation_stats(activations_list):\n",
    "    for layer_name in activations_list[0].keys():\n",
    "        plt.figure(figsize=(15, 5))\n",
    "        plt.subplot(131)\n",
    "        plt.plot([epoch[layer_name]['mean'] for epoch in activations_list])\n",
    "        plt.title(f'{layer_name} - Mean Activation')\n",
    "        plt.xlabel('Batch')\n",
    "        plt.ylabel('Mean')\n",
    "\n",
    "        plt.subplot(132)\n",
    "        plt.plot([epoch[layer_name]['var'] for epoch in activations_list])\n",
    "        plt.title(f'{layer_name} - Activation Variance')\n",
    "        plt.xlabel('Batch')\n",
    "        plt.ylabel('Variance')\n",
    "\n",
    "        plt.subplot(133)\n",
    "        plt.plot([epoch[layer_name]['neg_ratio'] for epoch in activations_list])\n",
    "        plt.title(f'{layer_name} - Negative Activation Ratio')\n",
    "        plt.xlabel('Batch')\n",
    "        plt.ylabel('Ratio')\n",
    "\n",
    "        plt.tight_layout()\n",
    "        plt.show()"
   ]
  },
  {
   "cell_type": "markdown",
   "id": "457c3481-d99d-49a1-a9b6-4d495931df0e",
   "metadata": {},
   "source": [
    "### redefined training for debugging plotting activations_stats"
   ]
  },
  {
   "cell_type": "markdown",
   "id": "85a2e5b6-2a3a-4721-9c52-ce90024ef494",
   "metadata": {},
   "source": [
    "### take one"
   ]
  },
  {
   "cell_type": "code",
   "execution_count": 35,
   "id": "8b6e3ed0-41fa-4460-bd00-93c1fe4d84c5",
   "metadata": {},
   "outputs": [
    {
     "name": "stderr",
     "output_type": "stream",
     "text": [
      "\u001b[34m\u001b[1mwandb\u001b[0m: Currently logged in as: \u001b[33mmerhawi\u001b[0m (\u001b[33majax_m\u001b[0m). Use \u001b[1m`wandb login --relogin`\u001b[0m to force relogin\n"
     ]
    },
    {
     "data": {
      "text/html": [
       "wandb version 0.17.4 is available!  To upgrade, please run:\n",
       " $ pip install wandb --upgrade"
      ],
      "text/plain": [
       "<IPython.core.display.HTML object>"
      ]
     },
     "metadata": {},
     "output_type": "display_data"
    },
    {
     "data": {
      "text/html": [
       "Tracking run with wandb version 0.16.5"
      ],
      "text/plain": [
       "<IPython.core.display.HTML object>"
      ]
     },
     "metadata": {},
     "output_type": "display_data"
    },
    {
     "data": {
      "text/html": [
       "Run data is saved locally in <code>/Users/mtm007/Downloads/multiModal/Multi-modal-Training-/src/wandb/run-20240704_175146-bglhfvfr</code>"
      ],
      "text/plain": [
       "<IPython.core.display.HTML object>"
      ]
     },
     "metadata": {},
     "output_type": "display_data"
    },
    {
     "data": {
      "text/html": [
       "Syncing run <strong><a href='https://wandb.ai/ajax_m/Contrastive_learning/runs/bglhfvfr/workspace' target=\"_blank\">twilight-dew-1</a></strong> to <a href='https://wandb.ai/ajax_m/Contrastive_learning' target=\"_blank\">Weights & Biases</a> (<a href='https://wandb.me/run' target=\"_blank\">docs</a>)<br/>"
      ],
      "text/plain": [
       "<IPython.core.display.HTML object>"
      ]
     },
     "metadata": {},
     "output_type": "display_data"
    },
    {
     "data": {
      "text/html": [
       " View project at <a href='https://wandb.ai/ajax_m/Contrastive_learning' target=\"_blank\">https://wandb.ai/ajax_m/Contrastive_learning</a>"
      ],
      "text/plain": [
       "<IPython.core.display.HTML object>"
      ]
     },
     "metadata": {},
     "output_type": "display_data"
    },
    {
     "data": {
      "text/html": [
       " View run at <a href='https://wandb.ai/ajax_m/Contrastive_learning/runs/bglhfvfr/workspace' target=\"_blank\">https://wandb.ai/ajax_m/Contrastive_learning/runs/bglhfvfr/workspace</a>"
      ],
      "text/plain": [
       "<IPython.core.display.HTML object>"
      ]
     },
     "metadata": {},
     "output_type": "display_data"
    },
    {
     "data": {
      "text/html": [
       "<button onClick=\"this.nextSibling.style.display='block';this.style.display='none';\">Display W&B run</button><iframe src='https://wandb.ai/ajax_m/Contrastive_learning/runs/bglhfvfr?jupyter=true' style='border:none;width:100%;height:420px;display:none;'></iframe>"
      ],
      "text/plain": [
       "<wandb.sdk.wandb_run.Run at 0x30519ad70>"
      ]
     },
     "execution_count": 35,
     "metadata": {},
     "output_type": "execute_result"
    }
   ],
   "source": [
    "import wandb\n",
    "import random\n",
    "\n",
    "# start a new wandb run to track this script\n",
    "wandb.init(\n",
    "    # set the wandb project where this run will be logged\n",
    "    project=\"Contrastive_learning\",\n",
    "\n",
    "    # track hyperparameters and run metadata\n",
    "    config={\n",
    "    \"learning_rate\": 0.02,\n",
    "    \"architecture\": \"CNN\",\n",
    "    \"dataset\": \"Mnist -dataset\",\n",
    "    \"epochs\": 10,\n",
    "    }\n",
    ")"
   ]
  },
  {
   "cell_type": "markdown",
   "id": "a9bc60b6-15c5-4a88-b72c-5a6c92e24872",
   "metadata": {},
   "source": [
    "# take two"
   ]
  },
  {
   "cell_type": "code",
   "execution_count": 38,
   "id": "a1e27edf-535f-4bcd-83b3-7f7bab5b1b47",
   "metadata": {},
   "outputs": [
    {
     "name": "stdout",
     "output_type": "stream",
     "text": [
      "epoch- 0\n",
      "learning rate 0.001\n"
     ]
    },
    {
     "name": "stderr",
     "output_type": "stream",
     "text": [
      "100%|██████████████████████████████████████████████████████████████████████████████| 4/4 [00:04<00:00,  1.24s/it]\n"
     ]
    },
    {
     "name": "stdout",
     "output_type": "stream",
     "text": [
      "epoch_loss 0.16805319488048553\n",
      "epoch- 1\n",
      "learning rate 0.001\n"
     ]
    },
    {
     "name": "stderr",
     "output_type": "stream",
     "text": [
      "100%|██████████████████████████████████████████████████████████████████████████████| 4/4 [00:04<00:00,  1.11s/it]\n"
     ]
    },
    {
     "name": "stdout",
     "output_type": "stream",
     "text": [
      "epoch_loss 0.17303253710269928\n",
      "epoch- 2\n",
      "learning rate 0.001\n"
     ]
    },
    {
     "name": "stderr",
     "output_type": "stream",
     "text": [
      "100%|██████████████████████████████████████████████████████████████████████████████| 4/4 [00:05<00:00,  1.32s/it]\n"
     ]
    },
    {
     "name": "stdout",
     "output_type": "stream",
     "text": [
      "epoch_loss 0.16595610976219177\n",
      "epoch- 3\n",
      "learning rate 0.001\n"
     ]
    },
    {
     "name": "stderr",
     "output_type": "stream",
     "text": [
      "100%|██████████████████████████████████████████████████████████████████████████████| 4/4 [00:11<00:00,  2.91s/it]\n"
     ]
    },
    {
     "name": "stdout",
     "output_type": "stream",
     "text": [
      "epoch_loss 0.17414763569831848\n",
      "epoch- 4\n",
      "learning rate 0.001\n"
     ]
    },
    {
     "name": "stderr",
     "output_type": "stream",
     "text": [
      "100%|██████████████████████████████████████████████████████████████████████████████| 4/4 [00:05<00:00,  1.26s/it]\n"
     ]
    },
    {
     "name": "stdout",
     "output_type": "stream",
     "text": [
      "epoch_loss 0.16868646442890167\n",
      "epoch- 5\n",
      "learning rate 0.001\n"
     ]
    },
    {
     "name": "stderr",
     "output_type": "stream",
     "text": [
      "100%|██████████████████████████████████████████████████████████████████████████████| 4/4 [00:04<00:00,  1.15s/it]\n"
     ]
    },
    {
     "name": "stdout",
     "output_type": "stream",
     "text": [
      "epoch_loss 0.16512414813041687\n",
      "epoch- 6\n",
      "learning rate 0.001\n"
     ]
    },
    {
     "name": "stderr",
     "output_type": "stream",
     "text": [
      "100%|██████████████████████████████████████████████████████████████████████████████| 4/4 [00:04<00:00,  1.20s/it]\n"
     ]
    },
    {
     "name": "stdout",
     "output_type": "stream",
     "text": [
      "epoch_loss 0.16932344436645508\n",
      "epoch- 7\n",
      "learning rate 0.001\n"
     ]
    },
    {
     "name": "stderr",
     "output_type": "stream",
     "text": [
      "100%|██████████████████████████████████████████████████████████████████████████████| 4/4 [00:04<00:00,  1.16s/it]\n"
     ]
    },
    {
     "name": "stdout",
     "output_type": "stream",
     "text": [
      "epoch_loss 0.18505781888961792\n",
      "epoch- 8\n",
      "learning rate 0.001\n"
     ]
    },
    {
     "name": "stderr",
     "output_type": "stream",
     "text": [
      "100%|██████████████████████████████████████████████████████████████████████████████| 4/4 [00:04<00:00,  1.15s/it]\n"
     ]
    },
    {
     "name": "stdout",
     "output_type": "stream",
     "text": [
      "epoch_loss 0.17436334490776062\n",
      "epoch- 9\n",
      "learning rate 0.001\n"
     ]
    },
    {
     "name": "stderr",
     "output_type": "stream",
     "text": [
      "100%|██████████████████████████████████████████████████████████████████████████████| 4/4 [00:04<00:00,  1.02s/it]\n"
     ]
    },
    {
     "name": "stdout",
     "output_type": "stream",
     "text": [
      "epoch_loss 0.1733807921409607\n",
      "Plotting data for layer: conv1.2\n",
      "Means: [[0.34473302960395813, 0.342654287815094, 0.34749794006347656, 0.33970171213150024], [0.3438809812068939, 0.34226924180984497, 0.3449113667011261, 0.3441280424594879], [0.34438714385032654, 0.34187185764312744, 0.33899858593940735, 0.3351026773452759], [0.3443497121334076, 0.34087085723876953, 0.34327003359794617, 0.3475750982761383], [0.34392228722572327, 0.3425908386707306, 0.34708037972450256, 0.3453935384750366], [0.3440379500389099, 0.3458353281021118, 0.3431815207004547, 0.3422762453556061], [0.3417426347732544, 0.3436448276042938, 0.34871265292167664, 0.3485960066318512], [0.3429037630558014, 0.34335821866989136, 0.34475743770599365, 0.33826103806495667], [0.345223605632782, 0.34276750683784485, 0.33938103914260864, 0.3450864255428314], [0.3440021574497223, 0.34183984994888306, 0.3349875211715698, 0.34148481488227844]]\n",
      "Variances: [[0.376233845949173, 0.3774295449256897, 0.3747384250164032, 0.37981265783309937], [0.37653544545173645, 0.3776736855506897, 0.3766888678073883, 0.3761161267757416], [0.37648969888687134, 0.3782285749912262, 0.38087254762649536, 0.3823952376842499], [0.3766070306301117, 0.37895292043685913, 0.3776974678039551, 0.37460336089134216], [0.376585453748703, 0.37751203775405884, 0.3750089406967163, 0.37502485513687134], [0.37647658586502075, 0.37532100081443787, 0.3780476450920105, 0.37773022055625916], [0.3780606687068939, 0.37686416506767273, 0.3726314306259155, 0.3739590048789978], [0.3774940073490143, 0.377140611410141, 0.3762114346027374, 0.3815651834011078], [0.3760777413845062, 0.3776455521583557, 0.37888795137405396, 0.3763778507709503], [0.3766658306121826, 0.3778769373893738, 0.3825547397136688, 0.3792840242385864]]\n",
      "Negative Ratios: [[0.4741842448711395, 0.47343868017196655, 0.4762997031211853, 0.4724934995174408], [0.47408145666122437, 0.4734058380126953, 0.4742499589920044, 0.4737260639667511], [0.4743838906288147, 0.473798543214798, 0.4717729389667511, 0.4700605571269989], [0.4743753969669342, 0.4732072651386261, 0.4736158549785614, 0.4760487973690033], [0.47392189502716064, 0.4735073447227478, 0.4754672646522522, 0.4749196469783783], [0.4741973876953125, 0.47450193762779236, 0.4744974672794342, 0.4735226035118103], [0.47350800037384033, 0.473809152841568, 0.4756893515586853, 0.4755316972732544], [0.4739042818546295, 0.47375425696372986, 0.474761962890625, 0.4728410542011261], [0.47485268115997314, 0.4736194610595703, 0.4724443256855011, 0.4745873510837555], [0.47391700744628906, 0.4732244312763214, 0.4710913896560669, 0.4734666645526886]]\n"
     ]
    },
    {
     "ename": "AttributeError",
     "evalue": "'_io.BytesIO' object has no attribute 'ndim'",
     "output_type": "error",
     "traceback": [
      "\u001b[0;31m---------------------------------------------------------------------------\u001b[0m",
      "\u001b[0;31mAttributeError\u001b[0m                            Traceback (most recent call last)",
      "Cell \u001b[0;32mIn[38], line 198\u001b[0m\n\u001b[1;32m    190\u001b[0m         \u001b[38;5;66;03m# Log the plot to Weights and Biases\u001b[39;00m\n\u001b[1;32m    191\u001b[0m         \u001b[38;5;66;03m#wandb.log({f'{layer_name} activations': wandb.Image(buf)})\u001b[39;00m\n\u001b[1;32m    192\u001b[0m \n\u001b[1;32m    193\u001b[0m \u001b[38;5;66;03m# Example usage:\u001b[39;00m\n\u001b[1;32m    194\u001b[0m \u001b[38;5;66;03m# Train_model(epoch_count=10)\u001b[39;00m\n\u001b[1;32m    195\u001b[0m checkpoint_dir \u001b[38;5;241m=\u001b[39m \u001b[38;5;124m'\u001b[39m\u001b[38;5;124mcheckpoints\u001b[39m\u001b[38;5;124m'\u001b[39m\n\u001b[0;32m--> 198\u001b[0m training_result \u001b[38;5;241m=\u001b[39m \u001b[43mTrain_model\u001b[49m\u001b[43m(\u001b[49m\u001b[43m)\u001b[49m\n\u001b[1;32m    199\u001b[0m model \u001b[38;5;241m=\u001b[39m training_result[\u001b[38;5;124m\"\u001b[39m\u001b[38;5;124mnet\u001b[39m\u001b[38;5;124m\"\u001b[39m]\n\u001b[1;32m    200\u001b[0m wandb\u001b[38;5;241m.\u001b[39mfinish()\n",
      "Cell \u001b[0;32mIn[38], line 101\u001b[0m, in \u001b[0;36mTrain_model\u001b[0;34m(epoch_count)\u001b[0m\n\u001b[1;32m     96\u001b[0m     torch\u001b[38;5;241m.\u001b[39msave(net\u001b[38;5;241m.\u001b[39mstate_dict(), checkpoint_path)\n\u001b[1;32m     98\u001b[0m \u001b[38;5;66;03m# Debugging: Print entire activations list\u001b[39;00m\n\u001b[1;32m     99\u001b[0m \u001b[38;5;66;03m#print('Final activations_list:', activations_list)\u001b[39;00m\n\u001b[0;32m--> 101\u001b[0m \u001b[43mplot_activation_stats\u001b[49m\u001b[43m(\u001b[49m\u001b[43mactivations_list\u001b[49m\u001b[43m)\u001b[49m\n\u001b[1;32m    103\u001b[0m plt\u001b[38;5;241m.\u001b[39mfigure()\n\u001b[1;32m    104\u001b[0m plt\u001b[38;5;241m.\u001b[39mplot(lrs, losses)\n",
      "Cell \u001b[0;32mIn[38], line 152\u001b[0m, in \u001b[0;36mplot_activation_stats\u001b[0;34m(activations_list)\u001b[0m\n\u001b[1;32m    150\u001b[0m plt\u001b[38;5;241m.\u001b[39msavefig(buf1, \u001b[38;5;28mformat\u001b[39m\u001b[38;5;241m=\u001b[39m\u001b[38;5;124m'\u001b[39m\u001b[38;5;124mpng\u001b[39m\u001b[38;5;124m'\u001b[39m)\n\u001b[1;32m    151\u001b[0m buf1\u001b[38;5;241m.\u001b[39mseek(\u001b[38;5;241m0\u001b[39m)\n\u001b[0;32m--> 152\u001b[0m wandb\u001b[38;5;241m.\u001b[39mlog({\u001b[38;5;124mf\u001b[39m\u001b[38;5;124m'\u001b[39m\u001b[38;5;132;01m{\u001b[39;00mlayer_name\u001b[38;5;132;01m}\u001b[39;00m\u001b[38;5;124m - Mean Activation\u001b[39m\u001b[38;5;124m'\u001b[39m: \u001b[43mwandb\u001b[49m\u001b[38;5;241;43m.\u001b[39;49m\u001b[43mImage\u001b[49m\u001b[43m(\u001b[49m\u001b[43mbuf1\u001b[49m\u001b[43m)\u001b[49m})\n\u001b[1;32m    154\u001b[0m plt\u001b[38;5;241m.\u001b[39msubplot(\u001b[38;5;241m132\u001b[39m)\n\u001b[1;32m    155\u001b[0m plt\u001b[38;5;241m.\u001b[39mplot(\u001b[38;5;28mvars\u001b[39m)\n",
      "File \u001b[0;32m~/mambaforge/lib/python3.10/site-packages/wandb/sdk/data_types/image.py:179\u001b[0m, in \u001b[0;36mImage.__init__\u001b[0;34m(self, data_or_path, mode, caption, grouping, classes, boxes, masks, file_type)\u001b[0m\n\u001b[1;32m    177\u001b[0m         \u001b[38;5;28mself\u001b[39m\u001b[38;5;241m.\u001b[39m_initialize_from_path(data_or_path)\n\u001b[1;32m    178\u001b[0m \u001b[38;5;28;01melse\u001b[39;00m:\n\u001b[0;32m--> 179\u001b[0m     \u001b[38;5;28;43mself\u001b[39;49m\u001b[38;5;241;43m.\u001b[39;49m\u001b[43m_initialize_from_data\u001b[49m\u001b[43m(\u001b[49m\u001b[43mdata_or_path\u001b[49m\u001b[43m,\u001b[49m\u001b[43m \u001b[49m\u001b[43mmode\u001b[49m\u001b[43m,\u001b[49m\u001b[43m \u001b[49m\u001b[43mfile_type\u001b[49m\u001b[43m)\u001b[49m\n\u001b[1;32m    180\u001b[0m \u001b[38;5;28mself\u001b[39m\u001b[38;5;241m.\u001b[39m_set_initialization_meta(\n\u001b[1;32m    181\u001b[0m     grouping, caption, classes, boxes, masks, file_type\n\u001b[1;32m    182\u001b[0m )\n",
      "File \u001b[0;32m~/mambaforge/lib/python3.10/site-packages/wandb/sdk/data_types/image.py:321\u001b[0m, in \u001b[0;36mImage._initialize_from_data\u001b[0;34m(self, data, mode, file_type)\u001b[0m\n\u001b[1;32m    319\u001b[0m \u001b[38;5;28;01mif\u001b[39;00m \u001b[38;5;28mhasattr\u001b[39m(data, \u001b[38;5;124m\"\u001b[39m\u001b[38;5;124mnumpy\u001b[39m\u001b[38;5;124m\"\u001b[39m):  \u001b[38;5;66;03m# TF data eager tensors\u001b[39;00m\n\u001b[1;32m    320\u001b[0m     data \u001b[38;5;241m=\u001b[39m data\u001b[38;5;241m.\u001b[39mnumpy()\n\u001b[0;32m--> 321\u001b[0m \u001b[38;5;28;01mif\u001b[39;00m \u001b[43mdata\u001b[49m\u001b[38;5;241;43m.\u001b[39;49m\u001b[43mndim\u001b[49m \u001b[38;5;241m>\u001b[39m \u001b[38;5;241m2\u001b[39m:\n\u001b[1;32m    322\u001b[0m     data \u001b[38;5;241m=\u001b[39m data\u001b[38;5;241m.\u001b[39msqueeze()  \u001b[38;5;66;03m# get rid of trivial dimensions as a convenience\u001b[39;00m\n\u001b[1;32m    323\u001b[0m \u001b[38;5;28mself\u001b[39m\u001b[38;5;241m.\u001b[39m_image \u001b[38;5;241m=\u001b[39m pil_image\u001b[38;5;241m.\u001b[39mfromarray(\n\u001b[1;32m    324\u001b[0m     \u001b[38;5;28mself\u001b[39m\u001b[38;5;241m.\u001b[39mto_uint8(data), mode\u001b[38;5;241m=\u001b[39mmode \u001b[38;5;129;01mor\u001b[39;00m \u001b[38;5;28mself\u001b[39m\u001b[38;5;241m.\u001b[39mguess_mode(data)\n\u001b[1;32m    325\u001b[0m )\n",
      "\u001b[0;31mAttributeError\u001b[0m: '_io.BytesIO' object has no attribute 'ndim'"
     ]
    },
    {
     "data": {
      "image/png": "[encoded data removed]",
      "text/plain": [
       "<Figure size 1500x500 with 1 Axes>"
      ]
     },
     "metadata": {},
     "output_type": "display_data"
    }
   ],
   "source": [
    "import torch\n",
    "import torch.nn as nn\n",
    "import matplotlib.pyplot as plt\n",
    "from collections import defaultdict\n",
    "import os\n",
    "from tqdm import tqdm\n",
    "\n",
    "epoch_count=10\n",
    "optimizer = torch.optim.AdamW(net.parameters(), lr = 0.001,weight_decay=1e-5)\n",
    "#optimizer = torch.optim.AdamW(net.parameters())\n",
    "loss_function = ContrastiveLoss_with_margin()\n",
    "#scheduler = optim.lr_scheduler.StepLR(optimizer, step_size=4, gamma=0.3)\n",
    "scheduler = CosineAnnealingLR(optimizer, T_max=epoch_count, eta_min=1e-6)\n",
    "#scheduler reduces plateau loss\n",
    "#scheduler = ReduceLROnPlateau(optimizer, mode='min', factor=0.5, patience=3, verbose=True)\n",
    "\n",
    "\n",
    "activations_list = []\n",
    "gradients = []\n",
    "\n",
    "def Train_model(epoch_count=10):\n",
    "    net = Network()\n",
    "    #The log=\"all\" parameter tells wandb to log gradients and parameters, and \n",
    "    #log_freq=64 means it will log every 64 batches.\n",
    "    wandb.watch(net, log=\"all\", log_freq=64) \n",
    "    net.apply(init_weights_for_gelu)\n",
    "    net = net.to(device)\n",
    "    lrs = []\n",
    "    losses = []\n",
    "    activations_dict = defaultdict(lambda: {'mean': [], 'var': [], 'neg_ratio': []})\n",
    "    \n",
    "    def get_activation_stats(name):\n",
    "        def hook(model, input, output):\n",
    "            mean = output.detach().mean().item()\n",
    "            var = output.detach().var().item()\n",
    "            neg_ratio = (output.detach() < 0).float().mean().item()\n",
    "            activations_dict[name]['mean'].append(mean)\n",
    "            activations_dict[name]['var'].append(var)\n",
    "            activations_dict[name]['neg_ratio'].append(neg_ratio)\n",
    "            # this was not printing coz of leakyReLU wasnt correctly called(was only nn.ReLU)\n",
    "            #print(f'Hook called for {name}: mean={mean}, var={var}, neg_ratio={neg_ratio}')\n",
    "        return hook   \n",
    "    \n",
    "    # Register hooks for GELU layers (or whatever activation you're using)\n",
    "    for name, layer in net.named_modules():\n",
    "        if isinstance(layer, nn.LeakyReLU):\n",
    "            layer.register_forward_hook(get_activation_stats(name))\n",
    "            #print(f'Registered hook for layer: {name}') #-----debugging print worked\n",
    "            \n",
    "    def capture_gradient(name):\n",
    "        def hook(module, grad_input, grad_output):\n",
    "            gradients.append((name, grad_output[0].detach()))\n",
    "        return hook\n",
    "        \n",
    "    for epoch in range(epoch_count):\n",
    "        epoch_loss = 0\n",
    "        batches = 0\n",
    "        \n",
    "        print('epoch-', epoch) \n",
    "        wandb.log({'epoch': epoch})\n",
    "\n",
    "        for param_group in optimizer.param_groups:\n",
    "            lrs.append(param_group['lr'])\n",
    "        \n",
    "        print('learning rate', lrs[-1])\n",
    "        wandb.log({'learning rate -':lrs[-1]})\n",
    "        \n",
    "        for anchor, contrastive, distance, label in tqdm(trainloader):\n",
    "            # assert anchor.shape[1] == 1, f\"Expected anchor channels to be 1, but got {anchor.shape[1]}\"\n",
    "            # assert contrastive.shape[1] == 1, f\"Expected contrastive channels to be 1, but got {contrastive.shape[1]}\"\n",
    "            batches += 1\n",
    "            optimizer.zero_grad()\n",
    "            anchor_out = anchor.to(device, dtype=torch.float32)\n",
    "            contrastive_out = contrastive.to(device, dtype=torch.float32)\n",
    "            distance = distance.to(torch.float32).to(device)\n",
    "            anchor_out = net(anchor_out)\n",
    "            contrastive_out = net(contrastive_out)\n",
    "            \n",
    "            loss = loss_function(anchor_out, contrastive_out, distance)\n",
    "            epoch_loss += loss\n",
    "            loss.backward()\n",
    "            norm = torch.nn.utils.clip_grad_norm_(net.parameters(), 1.0)\n",
    "            optimizer.step()\n",
    "        \n",
    "        #avg_loss = epoch_loss / batches\n",
    "        \n",
    "        # Debugging: Print activation statistics\n",
    "        #print(f'Activations after epoch {epoch}:', {k: {stat: v[stat][-batches:] for stat in v} for k, v in activations_dict.items()})\n",
    "        \n",
    "        activations_list.append({k: {stat: v[stat][-batches:] for stat in v} for k, v in activations_dict.items()})\n",
    "        losses.append(epoch_loss.cpu().detach().numpy() / batches)\n",
    "        \n",
    "        print('epoch_loss', losses[-1])\n",
    "        wandb.log({'epoch_loss -': losses[-1]})\n",
    "        checkpoint_path = os.path.join(checkpoint_dir, f'model_epoch{epoch}.pt')\n",
    "        torch.save(net.state_dict(), checkpoint_path)\n",
    "\n",
    "    # Debugging: Print entire activations list\n",
    "    #print('Final activations_list:', activations_list)\n",
    "\n",
    "    plot_activation_stats(activations_list)\n",
    "\n",
    "    plt.figure()\n",
    "    plt.plot(lrs, losses)\n",
    "    plt.xlabel('Learning Rate')\n",
    "    plt.ylabel('Loss')\n",
    "    plt.title('Learning Rate vs. Loss')\n",
    "    plt.show()\n",
    "\n",
    "    buf = io.BytesIO()\n",
    "    plt.savefig(buf, format='png')\n",
    "    buf.seek(0)\n",
    "    wandb.log({\"Learning Rate vs. Loss\": wandb.Image(buf)})\n",
    "\n",
    "    return {\n",
    "        \"net\": net,\n",
    "        \"losses\": losses,\n",
    "        \"activations\": activations_list\n",
    "    }\n",
    "\n",
    "def plot_activation_stats(activations_list):\n",
    "    if not activations_list:\n",
    "        print(\"No activation data to plot.\")\n",
    "        wandb.log({'message':'No activation data to plot'})\n",
    "        return\n",
    "\n",
    "    for layer_name in activations_list[0].keys():\n",
    "        means = [epoch[layer_name]['mean'] for epoch in activations_list]\n",
    "        vars = [epoch[layer_name]['var'] for epoch in activations_list]\n",
    "        neg_ratios = [epoch[layer_name]['neg_ratio'] for epoch in activations_list]\n",
    "        \n",
    "        print(f'Plotting data for layer: {layer_name}')\n",
    "        wandb.log({'Plotting data for layer':layer_name})\n",
    "        print(f'Means: {means}')\n",
    "        wandb.log({'Means': means})\n",
    "        print(f'Variances: {vars}')\n",
    "        wandb.log({'Variances': vars})\n",
    "        print(f'Negative Ratios: {neg_ratios}')\n",
    "        wandb.log({'Negative Ratios':neg_ratios})\n",
    "\n",
    "        plt.figure(figsize=(15, 5))\n",
    "        plt.subplot(131)\n",
    "        plt.plot(means)\n",
    "        plt.title(f'{layer_name} - Mean Activation')\n",
    "        plt.xlabel('Batch')\n",
    "        plt.ylabel('Mean')\n",
    "        \n",
    "        # Log Mean Activation plot with wandb\n",
    "        buf1 = io.BytesIO()\n",
    "        plt.savefig(buf1, format='png')\n",
    "        buf1.seek(0)\n",
    "        wandb.log({f'{layer_name} - Mean Activation': wandb.Image(buf1)})\n",
    "\n",
    "        plt.subplot(132)\n",
    "        plt.plot(vars)\n",
    "        plt.title(f'{layer_name} - Activation Variance')\n",
    "        plt.xlabel('Batch')\n",
    "        plt.ylabel('Variance')\n",
    "        \n",
    "        # Log Activation Variance plot\n",
    "        buf2 = io.BytesIO()\n",
    "        plt.savefig(buf2, format='png')\n",
    "        buf2.seek(0)\n",
    "        wandb.log({f'{layer_name} - Activation Variance': wandb.Image(buf2)})\n",
    "\n",
    "\n",
    "        plt.subplot(133)\n",
    "        plt.plot(neg_ratios)\n",
    "        plt.title(f'{layer_name} - Negative Activation Ratio')\n",
    "        plt.xlabel('Batch')\n",
    "        plt.ylabel('Ratio')\n",
    "        \n",
    "        # Log Negative Activation Ratio plot\n",
    "        buf3 = io.BytesIO()\n",
    "        plt.savefig(buf3, format='png')\n",
    "        buf3.seek(0)\n",
    "        wandb.log({f'{layer_name} - Negative Activation Ratio': wandb.Image(buf3)})\n",
    "        \n",
    "\n",
    "        plt.tight_layout()\n",
    "        plt.show()\n",
    "\n",
    "        # Log the entire figure\n",
    "        buf_full = io.BytesIO()\n",
    "        plt.savefig(buf_full, format='png')\n",
    "        buf_full.seek(0)\n",
    "        wandb.log({f'{layer_name} - All Activations': wandb.Image(buf_full)})\n",
    "\n",
    "\n",
    "        # Log the plot to Weights and Biases\n",
    "        #wandb.log({f'{layer_name} activations': wandb.Image(buf)})\n",
    "\n",
    "# Example usage:\n",
    "# Train_model(epoch_count=10)\n",
    "checkpoint_dir = 'checkpoints'\n",
    "\n",
    "\n",
    "training_result = Train_model()\n",
    "model = training_result[\"net\"]\n",
    "wandb.finish()"
   ]
  },
  {
   "cell_type": "code",
   "execution_count": 30,
   "id": "4543a9cb-ce53-4456-9ff2-c3cc17e7fe25",
   "metadata": {},
   "outputs": [
    {
     "name": "stdout",
     "output_type": "stream",
     "text": [
      ": <class 'Network.Network'>\n",
      "conv1: <class 'torch.nn.modules.container.Sequential'>\n",
      "conv1.0: <class 'torch.nn.modules.conv.Conv2d'>\n",
      "conv1.1: <class 'torch.nn.modules.batchnorm.BatchNorm2d'>\n",
      "conv1.2: <class 'torch.nn.modules.activation.LeakyReLU'>\n",
      "conv1.3: <class 'torch.nn.modules.pooling.MaxPool2d'>\n",
      "conv1.4: <class 'torch.nn.modules.dropout.Dropout'>\n",
      "conv2: <class 'torch.nn.modules.container.Sequential'>\n",
      "conv2.0: <class 'torch.nn.modules.conv.Conv2d'>\n",
      "conv2.1: <class 'torch.nn.modules.batchnorm.BatchNorm2d'>\n",
      "conv2.2: <class 'torch.nn.modules.activation.LeakyReLU'>\n",
      "conv2.3: <class 'torch.nn.modules.pooling.MaxPool2d'>\n",
      "conv2.4: <class 'torch.nn.modules.dropout.Dropout'>\n",
      "conv3: <class 'torch.nn.modules.container.Sequential'>\n",
      "conv3.0: <class 'torch.nn.modules.conv.Conv2d'>\n",
      "conv3.1: <class 'torch.nn.modules.batchnorm.BatchNorm2d'>\n",
      "conv3.2: <class 'torch.nn.modules.activation.LeakyReLU'>\n",
      "conv3.3: <class 'torch.nn.modules.pooling.MaxPool2d'>\n",
      "conv3.4: <class 'torch.nn.modules.dropout.Dropout'>\n",
      "linear1: <class 'torch.nn.modules.container.Sequential'>\n",
      "linear1.0: <class 'torch.nn.modules.linear.Linear'>\n",
      "linear1.1: <class 'torch.nn.modules.activation.LeakyReLU'>\n",
      "linear1.2: <class 'torch.nn.modules.dropout.Dropout'>\n",
      "linear1.3: <class 'torch.nn.modules.linear.Linear'>\n"
     ]
    }
   ],
   "source": [
    "#this prints the class layers modules \n",
    "def print_layer_types(net):\n",
    "    for name, layer in net.named_modules():\n",
    "        print(f'{name}: {type(layer)}')\n",
    "\n",
    "# Example usage:\n",
    "net = Network()\n",
    "print_layer_types(net)\n"
   ]
  },
  {
   "cell_type": "code",
   "execution_count": null,
   "id": "04acfe13-083f-472b-a6ff-186e2306a39a",
   "metadata": {},
   "outputs": [],
   "source": []
  },
  {
   "cell_type": "code",
   "execution_count": null,
   "id": "94b2a8f8-b840-49ec-9080-34e1256375db",
   "metadata": {},
   "outputs": [],
   "source": []
  },
  {
   "cell_type": "code",
   "execution_count": 15,
   "id": "514e7b1e-a73d-42db-b408-ff65c7342710",
   "metadata": {},
   "outputs": [
    {
     "name": "stdout",
     "output_type": "stream",
     "text": [
      "epoch- 0\n",
      "learning rate 1e-05\n"
     ]
    },
    {
     "data": {
      "application/vnd.jupyter.widget-view+json": {
       "model_id": "d1ef3832c0e643feb164891ff61d5e32",
       "version_major": 2,
       "version_minor": 0
      },
      "text/plain": [
       "  0%|          | 0/4 [00:00<?, ?it/s]"
      ]
     },
     "metadata": {},
     "output_type": "display_data"
    },
    {
     "name": "stdout",
     "output_type": "stream",
     "text": [
      "epoch_loss 0.19058915972709656\n",
      "epoch- 1\n",
      "learning rate 1e-05\n"
     ]
    },
    {
     "data": {
      "application/vnd.jupyter.widget-view+json": {
       "model_id": "be57d7125ec44bb2b8effa42c9afdc71",
       "version_major": 2,
       "version_minor": 0
      },
      "text/plain": [
       "  0%|          | 0/4 [00:00<?, ?it/s]"
      ]
     },
     "metadata": {},
     "output_type": "display_data"
    },
    {
     "name": "stdout",
     "output_type": "stream",
     "text": [
      "epoch_loss 0.17308595776557922\n",
      "epoch- 2\n",
      "learning rate 1e-05\n"
     ]
    },
    {
     "data": {
      "application/vnd.jupyter.widget-view+json": {
       "model_id": "cac16b5380cb431fbf929d4e9a9f846d",
       "version_major": 2,
       "version_minor": 0
      },
      "text/plain": [
       "  0%|          | 0/4 [00:00<?, ?it/s]"
      ]
     },
     "metadata": {},
     "output_type": "display_data"
    },
    {
     "name": "stdout",
     "output_type": "stream",
     "text": [
      "epoch_loss 0.18457815051078796\n",
      "epoch- 3\n",
      "learning rate 1e-05\n"
     ]
    },
    {
     "data": {
      "application/vnd.jupyter.widget-view+json": {
       "model_id": "ec733e1d9af64a9a82e58cd908a5dc1a",
       "version_major": 2,
       "version_minor": 0
      },
      "text/plain": [
       "  0%|          | 0/4 [00:00<?, ?it/s]"
      ]
     },
     "metadata": {},
     "output_type": "display_data"
    },
    {
     "name": "stdout",
     "output_type": "stream",
     "text": [
      "epoch_loss 0.18351145088672638\n",
      "epoch- 4\n",
      "learning rate 1e-05\n"
     ]
    },
    {
     "data": {
      "application/vnd.jupyter.widget-view+json": {
       "model_id": "5fae7c71e2154022b3d1bd669263f488",
       "version_major": 2,
       "version_minor": 0
      },
      "text/plain": [
       "  0%|          | 0/4 [00:00<?, ?it/s]"
      ]
     },
     "metadata": {},
     "output_type": "display_data"
    },
    {
     "name": "stdout",
     "output_type": "stream",
     "text": [
      "epoch_loss 0.18392661213874817\n",
      "epoch- 5\n",
      "learning rate 1e-05\n"
     ]
    },
    {
     "data": {
      "application/vnd.jupyter.widget-view+json": {
       "model_id": "f79d6d1d643447ebbf923b109ebf58d0",
       "version_major": 2,
       "version_minor": 0
      },
      "text/plain": [
       "  0%|          | 0/4 [00:00<?, ?it/s]"
      ]
     },
     "metadata": {},
     "output_type": "display_data"
    },
    {
     "name": "stdout",
     "output_type": "stream",
     "text": [
      "epoch_loss 0.1829705536365509\n",
      "epoch- 6\n",
      "learning rate 1e-05\n"
     ]
    },
    {
     "data": {
      "application/vnd.jupyter.widget-view+json": {
       "model_id": "f8ad172981dc4a5bbaf7b61611108d44",
       "version_major": 2,
       "version_minor": 0
      },
      "text/plain": [
       "  0%|          | 0/4 [00:00<?, ?it/s]"
      ]
     },
     "metadata": {},
     "output_type": "display_data"
    },
    {
     "name": "stdout",
     "output_type": "stream",
     "text": [
      "epoch_loss 0.18167845904827118\n",
      "epoch- 7\n",
      "learning rate 1e-05\n"
     ]
    },
    {
     "data": {
      "application/vnd.jupyter.widget-view+json": {
       "model_id": "3aa1fa9a952a477cbf5f99b386acadfc",
       "version_major": 2,
       "version_minor": 0
      },
      "text/plain": [
       "  0%|          | 0/4 [00:00<?, ?it/s]"
      ]
     },
     "metadata": {},
     "output_type": "display_data"
    },
    {
     "name": "stdout",
     "output_type": "stream",
     "text": [
      "epoch_loss 0.19683484733104706\n",
      "epoch- 8\n",
      "learning rate 1e-05\n"
     ]
    },
    {
     "data": {
      "application/vnd.jupyter.widget-view+json": {
       "model_id": "cadc66e6d65f4901b34aae45e981f889",
       "version_major": 2,
       "version_minor": 0
      },
      "text/plain": [
       "  0%|          | 0/4 [00:00<?, ?it/s]"
      ]
     },
     "metadata": {},
     "output_type": "display_data"
    },
    {
     "name": "stdout",
     "output_type": "stream",
     "text": [
      "epoch_loss 0.2011934071779251\n",
      "epoch- 9\n",
      "learning rate 1e-05\n"
     ]
    },
    {
     "data": {
      "application/vnd.jupyter.widget-view+json": {
       "model_id": "60020f57ee584b8cbae220b7fe518332",
       "version_major": 2,
       "version_minor": 0
      },
      "text/plain": [
       "  0%|          | 0/4 [00:00<?, ?it/s]"
      ]
     },
     "metadata": {},
     "output_type": "display_data"
    },
    {
     "name": "stdout",
     "output_type": "stream",
     "text": [
      "epoch_loss 0.1806100755929947\n"
     ]
    },
    {
     "data": {
      "image/png": "[encoded data removed]",
      "text/plain": [
       "<Figure size 640x480 with 1 Axes>"
      ]
     },
     "metadata": {},
     "output_type": "display_data"
    }
   ],
   "source": [
    "#train = True\n",
    "checkpoint_dir = 'checkpoints'\n",
    "\n",
    "\n",
    "training_result = Train_model()\n",
    "model = training_result[\"net\"]\n",
    "plot_activation_stats(training_result[\"activations\"])"
   ]
  },
  {
   "cell_type": "markdown",
   "id": "1e2289ea-9ee1-4b07-8a69-f526cc7dd56d",
   "metadata": {},
   "source": [
    "# Visualize activations after training"
   ]
  },
  {
   "cell_type": "code",
   "execution_count": 16,
   "id": "b48ddb9c-e570-4edc-b88b-184b7e08001f",
   "metadata": {},
   "outputs": [
    {
     "data": {
      "text/plain": [
       "10"
      ]
     },
     "execution_count": 16,
     "metadata": {},
     "output_type": "execute_result"
    }
   ],
   "source": [
    "def plot_activation_stats(activations_list):\n",
    "    for layer_name in activations_list[0].keys():\n",
    "        plt.figure(figsize=(15, 5))\n",
    "        plt.subplot(131)\n",
    "        plt.plot([epoch[layer_name]['mean'] for epoch in activations_list])\n",
    "        plt.title(f'{layer_name} - Mean Activation')\n",
    "        plt.xlabel('Batch')\n",
    "        plt.ylabel('Mean')\n",
    "\n",
    "        plt.subplot(132)\n",
    "        plt.plot([epoch[layer_name]['var'] for epoch in activations_list])\n",
    "        plt.title(f'{layer_name} - Activation Variance')\n",
    "        plt.xlabel('Batch')\n",
    "        plt.ylabel('Variance')\n",
    "\n",
    "        plt.subplot(133)\n",
    "        plt.plot([epoch[layer_name]['neg_ratio'] for epoch in activations_list])\n",
    "        plt.title(f'{layer_name} - Negative Activation Ratio')\n",
    "        plt.xlabel('Batch')\n",
    "        plt.ylabel('Ratio')\n",
    "\n",
    "        plt.tight_layout()\n",
    "        plt.show()\n",
    "        \n",
    "plot_activation_stats(training_result[\"activations\"])\n",
    "len(training_result[\"activations\"])"
   ]
  },
  {
   "cell_type": "markdown",
   "id": "68229292-542f-4903-873f-0684ff739ae9",
   "metadata": {},
   "source": [
    "## Debugging sessions"
   ]
  },
  {
   "cell_type": "markdown",
   "id": "63966726-1f57-4777-9373-7e90bf3f6368",
   "metadata": {},
   "source": [
    "# initial loss estimation "
   ]
  },
  {
   "cell_type": "code",
   "execution_count": 21,
   "id": "cf60c3d3-f656-43d4-aafd-b4e10c2bffca",
   "metadata": {},
   "outputs": [
    {
     "name": "stdout",
     "output_type": "stream",
     "text": [
      "Expected initial contrastive loss (cosine similarity with margin): 0.625\n"
     ]
    }
   ],
   "source": [
    "margin = 0.5\n",
    "\n",
    "# Expected loss for similar pairs\n",
    "expected_similar_loss = 1.0  # As (1 - score)^2 with score ≈ 0\n",
    "\n",
    "# Expected loss for dissimilar pairs\n",
    "expected_dissimilar_loss = margin ** 2  # As (score - margin)^2 with score ≈ 0\n",
    "\n",
    "# Average the losses\n",
    "initial_loss = (expected_similar_loss + expected_dissimilar_loss) / 2\n",
    "\n",
    "print(f'Expected initial contrastive loss (cosine similarity with margin): {initial_loss}')\n",
    "\n",
    "#--- \"Expected initial contrastive loss (cosine similarity with margin): 0.625\""
   ]
  },
  {
   "cell_type": "code",
   "execution_count": null,
   "id": "e92b5416-0f67-4316-bba7-26bfb661f462",
   "metadata": {},
   "outputs": [],
   "source": []
  },
  {
   "cell_type": "code",
   "execution_count": 17,
   "id": "26757820-6cb5-4d3f-842f-9047660a6ede",
   "metadata": {},
   "outputs": [
    {
     "name": "stdout",
     "output_type": "stream",
     "text": [
      "[]\n"
     ]
    }
   ],
   "source": [
    "if training_result[\"activations\"]:\n",
    "    print(list(training_result[\"activations\"][0].keys()))\n",
    "    for key in training_result[\"activations\"][0].keys():\n",
    "        print(f\"{key}: {training_result['activations'][0][key].keys()}\")\n",
    "else:\n",
    "    print(\"Activations list is empty\")"
   ]
  },
  {
   "cell_type": "code",
   "execution_count": 18,
   "id": "7a473960-cb0a-4069-bed9-75a274ff81da",
   "metadata": {},
   "outputs": [
    {
     "name": "stdout",
     "output_type": "stream",
     "text": [
      "Number of epochs: 10\n"
     ]
    }
   ],
   "source": [
    "def plot_activation_stats(activations_list):\n",
    "    print(f\"Number of epochs: {len(activations_list)}\")\n",
    "    \n",
    "    if not activations_list:\n",
    "        print(\"Activations list is empty\")\n",
    "        return\n",
    "\n",
    "    for layer_name in activations_list[0].keys():\n",
    "        print(f\"Plotting for layer: {layer_name}\")\n",
    "        plt.figure(figsize=(15, 5))\n",
    "        \n",
    "        for i, stat in enumerate(['mean', 'var', 'neg_ratio'], 1):\n",
    "            plt.subplot(1, 3, i)\n",
    "            values = [epoch[layer_name][stat] for epoch in activations_list]\n",
    "            print(f\"{stat} values: {values[:5]}...\")  # Print first 5 values\n",
    "            \n",
    "            if not values:\n",
    "                print(f\"No {stat} values for {layer_name}\")\n",
    "                continue\n",
    "            \n",
    "            plt.plot(values)\n",
    "            plt.title(f'{layer_name} - {stat.capitalize()}')\n",
    "            plt.xlabel('Batch')\n",
    "            plt.ylabel(stat.capitalize())\n",
    "        \n",
    "        plt.tight_layout()\n",
    "        plt.show()\n",
    "\n",
    "plot_activation_stats(training_result[\"activations\"])"
   ]
  },
  {
   "cell_type": "code",
   "execution_count": null,
   "id": "33b9972a-d1e1-4c2c-b695-61c243ab1d5b",
   "metadata": {},
   "outputs": [],
   "source": []
  },
  {
   "cell_type": "code",
   "execution_count": null,
   "id": "9afb3d41-f611-45ea-a396-1f6f2669058c",
   "metadata": {},
   "outputs": [],
   "source": []
  },
  {
   "cell_type": "code",
   "execution_count": null,
   "id": "9b9b5a37-5c87-4d21-b10f-686b4a4653c0",
   "metadata": {},
   "outputs": [],
   "source": []
  },
  {
   "cell_type": "code",
   "execution_count": null,
   "id": "394bc777-e9b1-4ae0-adc6-412a6e9e439d",
   "metadata": {},
   "outputs": [],
   "source": []
  },
  {
   "cell_type": "code",
   "execution_count": 20,
   "id": "afb0c019-b1d4-4757-bf83-dc64656a8048",
   "metadata": {},
   "outputs": [
    {
     "name": "stdout",
     "output_type": "stream",
     "text": [
      "[{}, {}, {}, {}, {}, {}, {}, {}, {}, {}]\n",
      "[{}, {}, {}, {}, {}, {}, {}, {}, {}, {}]\n",
      "[{}, {}, {}, {}, {}, {}, {}, {}, {}, {}]\n",
      "[{}, {}, {}, {}, {}, {}, {}, {}, {}, {}]\n",
      "[{}, {}, {}, {}, {}, {}, {}, {}, {}, {}]\n",
      "[{}, {}, {}, {}, {}, {}, {}, {}, {}, {}]\n",
      "[{}, {}, {}, {}, {}, {}, {}, {}, {}, {}]\n",
      "[{}, {}, {}, {}, {}, {}, {}, {}, {}, {}]\n",
      "[{}, {}, {}, {}, {}, {}, {}, {}, {}, {}]\n",
      "[{}, {}, {}, {}, {}, {}, {}, {}, {}, {}]\n"
     ]
    },
    {
     "data": {
      "image/png": "[encoded data removed]",
      "text/plain": [
       "<Figure size 2000x400 with 1 Axes>"
      ]
     },
     "metadata": {},
     "output_type": "display_data"
    }
   ],
   "source": [
    "plt.figure(figsize=(20, 4))\n",
    "legends = []\n",
    "\n",
    "# Assuming activations_list is a list of dictionaries\n",
    "for epoch, epoch_activations in enumerate(activations_list):\n",
    "    print(activations_list)\n",
    "    for i, (name, tensors) in enumerate(epoch_activations.items()):\n",
    "        # Combine all tensors for this layer across batches\n",
    "        all_tensors = torch.cat(tensors, dim=0)\n",
    "\n",
    "        # Calculate metrics\n",
    "        zero_percentage = (all_tensors == 0).float().mean().item() * 100\n",
    "        mean_value = all_tensors.mean().item()\n",
    "        std_value = all_tensors.std().item()\n",
    "        sparsity = (all_tensors != 0).float().mean().item() * 100\n",
    "        variance = all_tensors.var().item()\n",
    "    \n",
    "        print(f'Epoch {epoch}, Layer {i} ({name}): mean: {mean_value:+.2f}, std: {std_value:.2f}, zeros: {zero_percentage:.2f}%, sparsity: {sparsity:.2f}%, variance: {variance:.2f}')\n",
    "     \n",
    "        # Compute the histogram using numpy\n",
    "        hist, bin_edges = np.histogram(all_tensors.cpu().numpy().flatten(), bins=50, range=(-2, 2))\n",
    "        \n",
    "        # Plot the histogram\n",
    "        plt.plot(bin_edges[:-1], hist)\n",
    "        legends.append(f'{name} (Epoch {epoch})')\n",
    "\n",
    "plt.legend(legends)\n",
    "plt.title('Activation Distributions')\n",
    "plt.xlabel('Activation Value')\n",
    "plt.ylabel('Frequency')\n",
    "plt.show()"
   ]
  },
  {
   "cell_type": "code",
   "execution_count": null,
   "id": "2873a894-d511-4641-96bc-a1684895271f",
   "metadata": {},
   "outputs": [],
   "source": [
    "# Assuming 'activations' is a list of (name, tensor) tuples\n",
    "\n",
    "plt.figure(figsize=(20, 4))\n",
    "legends = []\n",
    "for name, t in activations:\n",
    "    # Calculate metrics\n",
    "    zero_percentage = (t == 0).float().mean() * 100\n",
    "    mean_value = t.mean().item()\n",
    "    std_value = t.std().item()\n",
    "    sparsity = (t != 0).float().mean() * 100\n",
    "    variance = t.var().item()\n",
    "\n",
    "    print(f'{name}: mean: {mean_value:+.2f}, std: {std_value:.2f}, zeros: {zero_percentage:.2f}%, sparsity: {sparsity:.2f}%, variance: {variance:.2f}')\n",
    "    \n",
    "    hy, hx = torch.histogram(t, density=True)\n",
    "    plt.plot(hx[:-1].detach().cpu(), hy.detach().cpu())\n",
    "    legends.append(name)\n",
    "\n",
    "plt.legend(legends[:3])\n",
    "plt.title('Activation Distribution')\n",
    "plt.show()"
   ]
  },
  {
   "cell_type": "code",
   "execution_count": null,
   "id": "c0ba4608-8d3f-449a-a552-6489e2ea2758",
   "metadata": {},
   "outputs": [],
   "source": []
  },
  {
   "cell_type": "code",
   "execution_count": null,
   "id": "88877019-9c7a-4851-860d-0bada91b5324",
   "metadata": {},
   "outputs": [],
   "source": [
    "# After training, aggregate and visualize activation metrics\n",
    "plt.figure(figsize=(20, 4))\n",
    "legends = []\n",
    "\n",
    "for i, (name, data) in enumerate(activation_metrics.items()):\n",
    "    all_tensors = torch.cat(data['tensors'], dim=0)\n",
    "    \n",
    "    # Calculate metrics\n",
    "    zero_percentage = (all_tensors == 0).float().mean() * 100\n",
    "    mean_value = all_tensors.mean().item()\n",
    "    std_value = all_tensors.std().item()\n",
    "    sparsity = (all_tensors != 0).float().mean() * 100\n",
    "    variance = all_tensors.var().item()\n",
    "    #saturated_percentage = (all_tensors.abs() > 0.97).float().mean() * 100\n",
    "\n",
    "    print(f'Layer {i} ({name}): mean: {mean_value:+.2f}, std: {std_value:.2f}, zeros: {zero_percentage:.2f}%, sparsity: {sparsity:.2f}%, variance: {variance:.2f}')#, saturated: {saturated_percentage:.2f}%')\n",
    "    \n",
    "    hy, hx = torch.histogram(all_tensors, density=True)\n",
    "    plt.plot(hx[:-1].detach().cpu(), hy.detach().cpu())\n",
    "    legends.append(f'Layer {i} ({name})')\n",
    "\n",
    "plt.legend(legends)\n",
    "plt.title('Activation Distribution')\n",
    "plt.show()"
   ]
  },
  {
   "cell_type": "markdown",
   "id": "dddcd0b4-b167-4588-a030-febc7324aceb",
   "metadata": {},
   "source": [
    "# viz gradient distributions"
   ]
  },
  {
   "cell_type": "code",
   "execution_count": null,
   "id": "b85a0187-0941-46ee-9ff4-96bb62104e11",
   "metadata": {},
   "outputs": [],
   "source": [
    "for name, param in model.named_parameters():\n",
    "    if param.grad is not None:\n",
    "        print(f'{name} grad norm: {param.grad.data.norm(2).item()}')"
   ]
  },
  {
   "cell_type": "code",
   "execution_count": null,
   "id": "57534566-d872-4e09-b831-7c8858f4d966",
   "metadata": {},
   "outputs": [],
   "source": [
    "# too long print of stats\n",
    "\n",
    "#viz gradient distributions\n",
    "#Visualize gradients after training\n",
    "plt.figure(figsize=(20, 4))\n",
    "legends = []\n",
    "for name, grad in gradients:\n",
    "    #print(f'{name}: mean: {grad.mean():+.2f}, std: {grad.std():.2e}')\n",
    "    hy, hx = torch.histogram(grad, density=True)\n",
    "    plt.plot(hx[:-1].detach().cpu(), hy.detach().cpu())\n",
    "    legends.append(name)\n",
    "plt.legend(legends)\n",
    "plt.title('Gradient Distribution')\n",
    "plt.show()"
   ]
  },
  {
   "cell_type": "markdown",
   "id": "32195d90-ce38-4da2-a312-49a857f04a3c",
   "metadata": {},
   "source": [
    "# Visualize gradients after training"
   ]
  },
  {
   "cell_type": "code",
   "execution_count": null,
   "id": "71829950-9608-4d4f-b7ca-fd24241ee54b",
   "metadata": {},
   "outputs": [],
   "source": [
    "\n",
    "plt.figure(figsize=(20, 4))\n",
    "legends = []\n",
    "for i, p in enumerate(net.parameters()):\n",
    "    if p.grad is not None and p.ndim == 2:\n",
    "        t = p.grad\n",
    "        print(f'weight {tuple(p.shape)} | mean {t.mean():+.2f} | std {t.std():.2e} | grad:data ratio {t.std() / p.std():.2e}')\n",
    "        hy, hx = torch.histogram(t, density=True)\n",
    "        plt.plot(hx[:-1].detach().cpu(), hy.detach().cpu())\n",
    "        legends.append(f'{i} ({tuple(p.shape)})')\n",
    "plt.legend(legends)\n",
    "plt.title('Weight Gradient Distribution')\n",
    "plt.show()"
   ]
  },
  {
   "cell_type": "code",
   "execution_count": null,
   "id": "84a4c38f-af81-4236-9b43-06dc8360948c",
   "metadata": {},
   "outputs": [],
   "source": [
    "#visualize histogram of activations\n",
    "plt.figure(figsize=(20,4)) # width and height of the plot\n",
    "legends = []\n",
    "for i,layer in enumerate(net): #not excluding the last layer since there is no softmax\n",
    "    if isinstance(layer, ReLU):\n",
    "        t = layer.out\n",
    "        print('layer %d (%10s): mean: %+.2f, std: %.2f, saturated: %.2f%%' %(i, layer.__class__.__name__, t.mean(), t.std(), (t.abs() > 0.97).float().mean()*100))\n",
    "        hy, hx = torch.histogram(t, density=True)\n",
    "        plt.plot(hx[:-1].detach(), hy.detach())\n",
    "        legends.append(f'layer {i} ({layer.__class__.__name__}')\n",
    "plt.legend(legends);\n",
    "plt.title('activation distribation')"
   ]
  },
  {
   "cell_type": "code",
   "execution_count": null,
   "id": "02fe3de3-64d1-4af5-ad9a-dc4769e5f14d",
   "metadata": {},
   "outputs": [],
   "source": []
  },
  {
   "cell_type": "code",
   "execution_count": null,
   "id": "e495e6e3-7801-4833-8178-c6ff7deabbb9",
   "metadata": {},
   "outputs": [],
   "source": []
  },
  {
   "cell_type": "code",
   "execution_count": null,
   "id": "9f443d30-04c0-44a1-95cc-4d04b6dfdf66",
   "metadata": {},
   "outputs": [],
   "source": [
    "#visualize histogram of gradient\n",
    "plt.figure(figsize=(20,4)) # width and height of the plot\n",
    "legends = []\n",
    "for i,p in enumerate(parameters): \n",
    "    if p.ndim == 2:\n",
    "        plt.plot([ud[j][i] for j in range(len(ud))])\n",
    "        legends.append('param %d' % i)\n",
    "plt.plot([0, len(ud)], [-3, -3], 'k') # those ratios should be ~1e-3, indicated on the plot with black         \n",
    "plt.legend(legends);\n",
    "plt.title('update to data raio distribation, LR setting')"
   ]
  },
  {
   "cell_type": "code",
   "execution_count": null,
   "id": "31ef16b5-5953-4de8-a427-484e9e5579eb",
   "metadata": {},
   "outputs": [],
   "source": []
  },
  {
   "cell_type": "code",
   "execution_count": null,
   "id": "cf08ad25-2856-4e31-863a-e4e9236fbc84",
   "metadata": {},
   "outputs": [],
   "source": []
  },
  {
   "cell_type": "markdown",
   "id": "d0ed3fde-5a90-40fc-997e-a3fa139ae9d2",
   "metadata": {},
   "source": [
    "# load from backup"
   ]
  },
  {
   "cell_type": "code",
   "execution_count": null,
   "id": "a2782299-3a0c-457d-b580-c484b9cf82b0",
   "metadata": {},
   "outputs": [],
   "source": [
    "# def load_model_from_checkpoint():\n",
    "#     checkpoint = torch.load('checkpoints/model_epoch_99.pt')\n",
    "\n",
    "#     net = Network()\n",
    "#     net.load_state_dict(checkpoint)\n",
    "#     net.eval()\n",
    "\n",
    "#     return net"
   ]
  },
  {
   "cell_type": "code",
   "execution_count": null,
   "id": "e45e31e5-e4b4-4397-8243-abbe17562edb",
   "metadata": {},
   "outputs": [],
   "source": [
    "\n",
    "# def save_checkpoint(net, epoch, checkpoint_dir='checkpoints'):\n",
    "#     os.makedirs(checkpoint_dir, exist_ok=True)\n",
    "#     checkpoint_path = os.path.join(checkpoint_dir, f'model_epoch_{epoch}.pt')\n",
    "#     torch.save(net.state_dict(), checkpoint_path)\n",
    "    \n"
   ]
  },
  {
   "cell_type": "code",
   "execution_count": null,
   "id": "ac4d4586-17dc-4c93-a313-c0ed577cca61",
   "metadata": {},
   "outputs": [],
   "source": [
    "train = True\n",
    "checkpoint_dir = 'checkpoints'\n",
    "\n",
    "if train:\n",
    "    training_result = Train_model()\n",
    "    model = training_result[\"net\"]\n",
    "else:\n",
    "    model = load_latest_checkpoint(checkpoint_dir)"
   ]
  },
  {
   "cell_type": "code",
   "execution_count": null,
   "id": "c3ce5e0f-b759-491b-9ca3-0a19f9b82d95",
   "metadata": {},
   "outputs": [],
   "source": [
    "from IPython.display import Image\n",
    "\n",
    "plt.plot(training_result[losses])\n",
    "plt.show()\n",
    "\n",
    "    "
   ]
  }
 ],
 "metadata": {
  "kernelspec": {
   "display_name": "Python 3 (ipykernel)",
   "language": "python",
   "name": "python3"
  },
  "language_info": {
   "codemirror_mode": {
    "name": "ipython",
    "version": 3
   },
   "file_extension": ".py",
   "mimetype": "text/x-python",
   "name": "python",
   "nbconvert_exporter": "python",
   "pygments_lexer": "ipython3",
   "version": "3.10.14"
  }
 },
 "nbformat": 4,
 "nbformat_minor": 5
}
