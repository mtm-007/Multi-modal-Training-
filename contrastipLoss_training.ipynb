{
 "cells": [
  {
   "cell_type": "code",
   "execution_count": 5,
   "id": "bace4eb8-1fce-40d1-a070-cd7eae65f1ca",
   "metadata": {},
   "outputs": [],
   "source": [
    "import torch\n",
    "from torch import nn, optim\n",
    "from torch.utils.data import DataLoader\n",
    "from torchvision import transforms\n",
    "\n",
    "import pandas as pd\n",
    "import numpy as np \n",
    "import matplotlib.pyplot as plt\n",
    "from tqdm.notebook import tqdm  \n",
    "from sklearn.decomposition import PCA\n",
    "import umap\n",
    "import umap.plot\n",
    "import plotly.graph_objs as go \n",
    "import plotly.io as pio \n",
    "pio.renderers.default ='iframe'\n",
    "\n",
    "import warnings \n",
    "warnings.filterwarnings('ignore')"
   ]
  },
  {
   "cell_type": "code",
   "execution_count": 6,
   "id": "b8a91ae4",
   "metadata": {},
   "outputs": [
    {
     "name": "stderr",
     "output_type": "stream",
     "text": [
      "100%|██████████████████████████████████████████████████████████████| 41000/41000 [00:19<00:00, 2075.77it/s]\n",
      "100%|████████████████████████████████████████████████████████████████| 1000/1000 [00:00<00:00, 4225.19it/s]\n"
     ]
    }
   ],
   "source": [
    "from mnist_dataset import MNISTDataset \n",
    "#load dataset \n",
    "data = pd.read_csv('digit-recognizer/train.csv')\n",
    "val_count =1000\n",
    "\n",
    "#common transformation\n",
    "default_transform = transforms.Compose([\n",
    "    transforms.ToPILImage(),\n",
    "    transforms.ToTensor(),\n",
    "    transforms.Normalize(0.5,0.5)\n",
    "])\n",
    "\n",
    "#split the train to val and train\n",
    "dataset = MNISTDataset(data.iloc[:-val_count], default_transform)\n",
    "val_dataset = MNISTDataset(data.iloc[-val_count:], default_transform)\n"
   ]
  },
  {
   "cell_type": "code",
   "execution_count": 7,
   "id": "cb8a3df1",
   "metadata": {},
   "outputs": [],
   "source": [
    "#setup Dataloaders with pytorch dataloaders\n",
    "trainloader = DataLoader(\n",
    "    dataset,\n",
    "    batch_size = 16,\n",
    "    shuffle =True,\n",
    "    pin_memory = True, # for faster data transfer speed btn CPU and GPU, but will consume more system memory\n",
    "    num_workers = 2,\n",
    "    prefetch_factor = 100,#to specify how many batches should be prefetched(loaded into memory[increased memory usage tho]) asynchronously in advance.\n",
    "\n",
    ") "
   ]
  },
  {
   "cell_type": "markdown",
   "id": "de91ca38-4641-43fc-a054-9af4e0e45918",
   "metadata": {},
   "source": [
    "# visualizing Datapoints"
   ]
  },
  {
   "cell_type": "code",
   "execution_count": 8,
   "id": "431a76d4-b95e-49ca-a943-7d9dd320ed23",
   "metadata": {},
   "outputs": [
    {
     "data": {
      "image/png": "[encoded data removed]",
      "text/plain": [
       "<Figure size 900x300 with 4 Axes>"
      ]
     },
     "metadata": {},
     "output_type": "display_data"
    },
    {
     "data": {
      "image/png": "[encoded data removed]",
      "text/plain": [
       "<Figure size 900x300 with 4 Axes>"
      ]
     },
     "metadata": {},
     "output_type": "display_data"
    }
   ],
   "source": [
    "def show_images(images, title =''):\n",
    "    num_images = len(images)\n",
    "    fig,axes = plt.subplots(1, num_images,figsize=(9,3))\n",
    "    for i in range(num_images):\n",
    "        img = np.squeeze(images[i])\n",
    "        axes[i].imshow(img,cmap='gray')\n",
    "        axes[i].axis('off')\n",
    "    fig.suptitle(title)\n",
    "    plt.show()\n",
    "    \n",
    "for batch_idx, (anchor_images, contrastive_images, distances, labels) in enumerate(trainloader):\n",
    "    #converting tensors to numpy, numpy is easy to muniplate and display with matplotlib\n",
    "    anchor_images = anchor_images.numpy()\n",
    "    contrastive_images = contrastive_images.numpy()\n",
    "    labels = labels.numpy()\n",
    "\n",
    "    #display some imgages from batch\n",
    "    show_images(anchor_images[:4], title = 'Anchor Images')\n",
    "    show_images(contrastive_images[:4], title = '+/- Example Images')\n",
    "    #break after displaying from one batch for demostration \n",
    "    break"
   ]
  },
  {
   "cell_type": "markdown",
   "id": "e68115e5-2935-48f5-a968-12f4fe679b70",
   "metadata": {},
   "source": [
    "# lets build Neural Network\n",
    "-  Define a neural network architecture with two convolution layers and two fully connected layers\n",
    "- Input to the network is an MNIST image and Output is a 64 dimensional representation. \n"
   ]
  },
  {
   "cell_type": "code",
   "execution_count": 9,
   "id": "7f725e1e-0423-47f8-b173-8ab9d05296eb",
   "metadata": {},
   "outputs": [],
   "source": [
    "from Network import Network, ContrastiveLoss"
   ]
  },
  {
   "cell_type": "code",
   "execution_count": 10,
   "id": "4a4f49e1-4752-453a-8522-4ee463060cd2",
   "metadata": {},
   "outputs": [
    {
     "data": {
      "text/plain": [
       "'mps'"
      ]
     },
     "execution_count": 10,
     "metadata": {},
     "output_type": "execute_result"
    }
   ],
   "source": [
    "net = Network()\n",
    "\n",
    "device= \"cpu\"\n",
    "if torch.cuda.is_available():\n",
    "    device = \"cuda\"\n",
    "elif hasattr(torch.backends, \"mps\") and torch.backends.mps.is_available():\n",
    "    device= \"mps\"\n",
    "\n",
    "net = net.to(device)\n",
    "device"
   ]
  },
  {
   "cell_type": "code",
   "execution_count": 11,
   "id": "79f8b27f-d130-4697-a2cf-a1efe0de0130",
   "metadata": {},
   "outputs": [],
   "source": [
    "optimizer = torch.optim.AdamW(net.parameters(), lr = 3e-4)\n",
    "loss_function = ContrastiveLoss()\n",
    "scheduler = optim.lr_scheduler.StepLR(optimizer, step_size=7, gamma=0.3)\n"
   ]
  },
  {
   "cell_type": "code",
   "execution_count": 12,
   "id": "b1074f81-4ec1-4d6f-90db-51f9425197f7",
   "metadata": {},
   "outputs": [],
   "source": [
    "import os\n",
    "checkpoint_dir ='checkpoints/'\n",
    "\n",
    "if not os.path.exists(checkpoint_dir):\n",
    "    os.makedirs(checkpoint_dir)"
   ]
  },
  {
   "cell_type": "code",
   "execution_count": 1,
   "id": "cd524c75-d2b2-432f-a699-4612bfa7c3c1",
   "metadata": {},
   "outputs": [],
   "source": [
    "# def save_checkpoint(net, epoch, checkpoint_dir='checkpoints'):\n",
    "#     os.makedirs(checkpoint_dir, exist_ok=True)\n",
    "#     checkpoint_path = os.path.join(checkpoint_dir, f'model_epoch_{epoch}.pt')\n",
    "#     torch.save(net.state_dict(), checkpoint_path)"
   ]
  },
  {
   "cell_type": "code",
   "execution_count": 14,
   "id": "15d6d592-6e15-4163-bb9e-a7a4a56b9752",
   "metadata": {},
   "outputs": [],
   "source": [
    "\n",
    "def Train_model(epoch_count=10):\n",
    "    net = Network()\n",
    "    lrs = []\n",
    "    losses = []\n",
    "\n",
    "    for epoch in range(epoch_count):\n",
    "        epoch_loss = 0\n",
    "        batches = 0\n",
    "        print('epoch-',epoch)\n",
    "        lrs.append(optimizer.param_group[0]['lr'])\n",
    "        print('learning rate',lr[-1])\n",
    "\n",
    "        for anchor, contrastive, distance, label in tqdm(trainloader):\n",
    "            batches +=1\n",
    "            optimizer.zero_grad()\n",
    "            anchor_out = net(anchor.to(device))\n",
    "            contrastive_out = net(contrastive.to(device))\n",
    "            distance = distance.to(torchfloat32).to(device)\n",
    "            loss = loss_function(anchor_out, contrastive_out, distance)\n",
    "            epoch_loss += loss\n",
    "            loss.backward()\n",
    "            optimizer.step()\n",
    "        \n",
    "        losses.append(epoch_loss.cpu.detach().numpy()/ batches)\n",
    "        scheduler.step()\n",
    "        print('epoch_loss', losses[-1])\n",
    "\n",
    "        #save checkpoint\n",
    "        checkpoint_path = os.path.join(checkpoint_dir, f'model_epoch{epoch}.pt')\n",
    "        torch.save(net.state_dict(), checkpoint_path)\n",
    "        \n",
    "    return{\n",
    "        \"net\": net,\n",
    "        \"losses\":losses\n",
    "    }\n",
    "        "
   ]
  },
  {
   "cell_type": "markdown",
   "id": "d0ed3fde-5a90-40fc-997e-a3fa139ae9d2",
   "metadata": {},
   "source": [
    "# load from backup"
   ]
  },
  {
   "cell_type": "code",
   "execution_count": null,
   "id": "a2782299-3a0c-457d-b580-c484b9cf82b0",
   "metadata": {},
   "outputs": [],
   "source": [
    "# def load_model_from_checkpoint():\n",
    "#     checkpoint = torch.load('checkpoints/model_epoch_99.pt')\n",
    "\n",
    "#     net = Network()\n",
    "#     net.load_state_dict(checkpoint)\n",
    "#     net.eval()\n",
    "\n",
    "#     return net"
   ]
  },
  {
   "cell_type": "code",
   "execution_count": null,
   "id": "e45e31e5-e4b4-4397-8243-abbe17562edb",
   "metadata": {},
   "outputs": [],
   "source": [
    "'''\n",
    "def save_checkpoint(net, epoch, checkpoint_dir='checkpoints'):\n",
    "    os.makedirs(checkpoint_dir, exist_ok=True)\n",
    "    checkpoint_path = os.path.join(checkpoint_dir, f'model_epoch_{epoch}.pt')\n",
    "    torch.save(net.state_dict(), checkpoint_path)\n",
    "    \n",
    "'''"
   ]
  },
  {
   "cell_type": "code",
   "execution_count": 15,
   "id": "92200c38-6f17-4e5c-be23-d54d1507faa7",
   "metadata": {},
   "outputs": [],
   "source": [
    "\n",
    "def load_latest_checkpoint(checkpoint_dir='checkpoints'):\n",
    "    # List all checkpoint files\n",
    "    checkpoint_files = [f for f in os.listdir(checkpoint_dir) if f.startswith('model_epoch') and f.endswith('.pt')]\n",
    "    \n",
    "    # Extract epoch numbers\n",
    "    epochs = [int(re.findall(r'\\d+', f)[0]) for f in checkpoint_files]\n",
    "    \n",
    "    # Find the latest epoch\n",
    "    latest_epoch = max(epochs)\n",
    "    latest_checkpoint_path = os.path.join(checkpoint_dir, f'model_epoch_{latest_epoch}.pt')\n",
    "    \n",
    "    # Load the latest checkpoint\n",
    "    checkpoint = torch.load(latest_checkpoint_path)\n",
    "    net = Network()\n",
    "    net.load_state_dict(checkpoint)\n",
    "    net.eval()\n",
    "    \n",
    "    return net"
   ]
  },
  {
   "cell_type": "code",
   "execution_count": 16,
   "id": "ac4d4586-17dc-4c93-a313-c0ed577cca61",
   "metadata": {},
   "outputs": [
    {
     "ename": "ValueError",
     "evalue": "max() arg is an empty sequence",
     "output_type": "error",
     "traceback": [
      "\u001b[0;31m---------------------------------------------------------------------------\u001b[0m",
      "\u001b[0;31mValueError\u001b[0m                                Traceback (most recent call last)",
      "Cell \u001b[0;32mIn[16], line 8\u001b[0m\n\u001b[1;32m      6\u001b[0m     model \u001b[38;5;241m=\u001b[39m training_result[\u001b[38;5;124m\"\u001b[39m\u001b[38;5;124mnet\u001b[39m\u001b[38;5;124m\"\u001b[39m]\n\u001b[1;32m      7\u001b[0m \u001b[38;5;28;01melse\u001b[39;00m:\n\u001b[0;32m----> 8\u001b[0m     model \u001b[38;5;241m=\u001b[39m \u001b[43mload_latest_checkpoint\u001b[49m\u001b[43m(\u001b[49m\u001b[43mcheckpoint_dir\u001b[49m\u001b[43m)\u001b[49m\n",
      "Cell \u001b[0;32mIn[15], line 9\u001b[0m, in \u001b[0;36mload_latest_checkpoint\u001b[0;34m(checkpoint_dir)\u001b[0m\n\u001b[1;32m      6\u001b[0m epochs \u001b[38;5;241m=\u001b[39m [\u001b[38;5;28mint\u001b[39m(re\u001b[38;5;241m.\u001b[39mfindall(\u001b[38;5;124mr\u001b[39m\u001b[38;5;124m'\u001b[39m\u001b[38;5;124m\\\u001b[39m\u001b[38;5;124md+\u001b[39m\u001b[38;5;124m'\u001b[39m, f)[\u001b[38;5;241m0\u001b[39m]) \u001b[38;5;28;01mfor\u001b[39;00m f \u001b[38;5;129;01min\u001b[39;00m checkpoint_files]\n\u001b[1;32m      8\u001b[0m \u001b[38;5;66;03m# Find the latest epoch\u001b[39;00m\n\u001b[0;32m----> 9\u001b[0m latest_epoch \u001b[38;5;241m=\u001b[39m \u001b[38;5;28;43mmax\u001b[39;49m\u001b[43m(\u001b[49m\u001b[43mepochs\u001b[49m\u001b[43m)\u001b[49m\n\u001b[1;32m     10\u001b[0m latest_checkpoint_path \u001b[38;5;241m=\u001b[39m os\u001b[38;5;241m.\u001b[39mpath\u001b[38;5;241m.\u001b[39mjoin(checkpoint_dir, \u001b[38;5;124mf\u001b[39m\u001b[38;5;124m'\u001b[39m\u001b[38;5;124mmodel_epoch_\u001b[39m\u001b[38;5;132;01m{\u001b[39;00mlatest_epoch\u001b[38;5;132;01m}\u001b[39;00m\u001b[38;5;124m.pt\u001b[39m\u001b[38;5;124m'\u001b[39m)\n\u001b[1;32m     12\u001b[0m \u001b[38;5;66;03m# Load the latest checkpoint\u001b[39;00m\n",
      "\u001b[0;31mValueError\u001b[0m: max() arg is an empty sequence"
     ]
    }
   ],
   "source": [
    "train = False\n",
    "checkpoint_dir = 'checkpoints'\n",
    "\n",
    "if train:\n",
    "    training_result = Train_model()\n",
    "    model = training_result[\"net\"]\n",
    "else:\n",
    "    model = load_latest_checkpoint(checkpoint_dir)"
   ]
  },
  {
   "cell_type": "code",
   "execution_count": null,
   "id": "c3ce5e0f-b759-491b-9ca3-0a19f9b82d95",
   "metadata": {},
   "outputs": [],
   "source": [
    "from IPython.display import Image\n",
    "\n",
    "if train:\n",
    "    plt.plot(training_result[losses])\n",
    "    plt.show()\n",
    "else:\n",
    "    "
   ]
  }
 ],
 "metadata": {
  "kernelspec": {
   "display_name": "Python 3 (ipykernel)",
   "language": "python",
   "name": "python3"
  },
  "language_info": {
   "codemirror_mode": {
    "name": "ipython",
    "version": 3
   },
   "file_extension": ".py",
   "mimetype": "text/x-python",
   "name": "python",
   "nbconvert_exporter": "python",
   "pygments_lexer": "ipython3",
   "version": "3.10.14"
  }
 },
 "nbformat": 4,
 "nbformat_minor": 5
}
